{
 "cells": [
  {
   "cell_type": "code",
   "execution_count": 1,
   "metadata": {},
   "outputs": [],
   "source": [
    "%matplotlib inline\n",
    "import pandas as pd\n",
    "import numpy as np\n",
    "from utils_prodiac.mongo import Mongo\n",
    "import matplotlib.pyplot as plt\n",
    "pd.plotting.register_matplotlib_converters()"
   ]
  },
  {
   "cell_type": "code",
   "execution_count": 2,
   "metadata": {},
   "outputs": [],
   "source": [
    "pd.set_option('precision', 4)\n",
    "pd.set_option('display.max_rows', 100)"
   ]
  },
  {
   "cell_type": "code",
   "execution_count": 3,
   "metadata": {},
   "outputs": [],
   "source": [
    "mongo = Mongo()"
   ]
  },
  {
   "cell_type": "markdown",
   "metadata": {},
   "source": [
    "# Preparar datos"
   ]
  },
  {
   "cell_type": "code",
   "execution_count": 4,
   "metadata": {},
   "outputs": [],
   "source": [
    "id_measurement = 1\n",
    "df_original = mongo.mongo_to_df(\"twitter\",{\"id_measurement\":id_measurement})\n",
    "\n",
    "df_original.drop(columns=[\"data\"])\n",
    "df_original.to_csv(\"cluster.csv\")"
   ]
  },
  {
   "cell_type": "code",
   "execution_count": 5,
   "metadata": {},
   "outputs": [],
   "source": [
    "#df_original.describe()"
   ]
  },
  {
   "cell_type": "code",
   "execution_count": 6,
   "metadata": {},
   "outputs": [],
   "source": [
    "#limpieza basica y crear variables para clusterizar\n",
    "try:\n",
    "    df_original.drop(columns=[\"_id\"],inplace=True)\n",
    "except:\n",
    "    pass\n",
    "\n",
    "df_original_columns = list(df_original.columns) \n",
    "exclude_dates = []\n",
    "\n",
    "for column in df_original_columns:\n",
    "    \n",
    "    if df_original[column].dtype == \"int\" or df_original[column].dtype == \"float\":\n",
    "        df_original[column].fillna(0, inplace = True)\n",
    "        df_original[column + '_to_cluster'] = df_original[column]\n",
    "    elif df_original[column].dtype == (object):\n",
    "        df_original[column].fillna(\"Sin dato\", inplace = True)\n",
    "        df_original[column + '_to_cluster'] = df_original[column]\n",
    "    elif df_original[column].dtype == \"bool\":\n",
    "        df_original[column].fillna(False, inplace = True)\n",
    "        df_original[column + '_to_cluster'] = df_original[column]\n",
    "    else :\n",
    "        df_original[column+'_year'] = df_original[column].dt.year \n",
    "        df_original[column+'_month'] = df_original[column].dt.month \n",
    "        df_original[column+'_dayofweek'] = df_original[column].dt.dayofweek\n",
    "        df_original[column+'_hour'] = df_original[column].dt.hour \n",
    "        df_original[column+'_year_to_cluster'] = df_original[column].dt.year \n",
    "        df_original[column+'_hour_to_cluster'] = df_original[column].dt.hour \n",
    "        df_original[column+'_month_to_cluster'] = df_original[column].dt.month \n",
    "        df_original[column+'_dayofweek_to_cluster'] = df_original[column].dt.dayofweek \n",
    "        exclude_dates.append(column)"
   ]
  },
  {
   "cell_type": "code",
   "execution_count": 7,
   "metadata": {},
   "outputs": [
    {
     "name": "stdout",
     "output_type": "stream",
     "text": [
      "Ignorado targets - TypeError: argument must be a string or number\n",
      "Ignorado data - TypeError: argument must be a string or number\n"
     ]
    }
   ],
   "source": [
    "# Label Encoder\n",
    "from sklearn.preprocessing import LabelEncoder\n",
    "\n",
    "for column in df_original_columns:\n",
    "    if df_original[column].dtype == (object):\n",
    "        encoder = LabelEncoder()\n",
    "        try:\n",
    "            df_original[column + '_to_cluster'] = encoder.fit_transform(df_original[column + '_to_cluster'])\n",
    "        except TypeError as t_err:\n",
    "            try:\n",
    "                df_original.drop(columns=[column + '_to_cluster'],inplace=True)\n",
    "            except KeyError as k_err:\n",
    "                print(\"Ignorado \" + column+\" - KeyError: \"+str(k_err))\n",
    "            print(\"Ignorado \" + column+\" - TypeError: \"+str(t_err))\n"
   ]
  },
  {
   "cell_type": "code",
   "execution_count": 8,
   "metadata": {},
   "outputs": [
    {
     "name": "stdout",
     "output_type": "stream",
     "text": [
      "Variables exluidas: geo\n",
      "Variables exluidas: coordinates\n",
      "Variables exluidas: retweet_count\n",
      "Variables exluidas: favorite_count\n",
      "Variables exluidas: reply_count\n",
      "Variables exluidas: favorited\n",
      "Variables exluidas: retweeted\n",
      "Variables exluidas: filter_level\n",
      "Variables exluidas: lang\n",
      "Variables exluidas: user_lang\n",
      "Variables exluidas: targets\n",
      "Variables exluidas: id_measurement\n",
      "Variables exluidas: data\n"
     ]
    }
   ],
   "source": [
    "#Feature selector that removes all low-variance features.\n",
    "\n",
    "df_colums_selected = []\n",
    "\n",
    "for column in df_original_columns:\n",
    "    if column not in exclude_dates:\n",
    "        try:\n",
    "            varianza = df_original[column + '_to_cluster'].var()\n",
    "        except KeyError:\n",
    "            varianza = 0\n",
    "        \n",
    "        if  varianza > 0:\n",
    "            df_colums_selected.append(column)\n",
    "        else:\n",
    "            print (\"Variables exluidas: \" + column)\n",
    "\n",
    "df_colums_selected = [col+\"_to_cluster\" for col in df_colums_selected]"
   ]
  },
  {
   "cell_type": "code",
   "execution_count": 9,
   "metadata": {},
   "outputs": [
    {
     "name": "stdout",
     "output_type": "stream",
     "text": [
      "____________________________________\n",
      " Modelo : KMeans\n",
      "0\n",
      "0    11632\n",
      "1     7980\n",
      "Name: 0, dtype: int64\n",
      "Silhouette Coefficient: 0.407\n",
      "Davies-Bouldin score: 1.236\n",
      "Calinski and Harabasz score: 9106.793\n",
      "____________________________________\n",
      " Modelo : KMeans\n",
      "0\n",
      "0    9424\n",
      "1    7986\n",
      "2    2202\n",
      "Name: 0, dtype: int64\n",
      "Silhouette Coefficient: 0.471\n",
      "Davies-Bouldin score: 1.112\n",
      "Calinski and Harabasz score: 9055.161\n",
      "____________________________________\n",
      " Modelo : KMeans\n",
      "0\n",
      "0    5671\n",
      "1    6491\n",
      "2    2202\n",
      "3    5248\n",
      "Name: 0, dtype: int64\n",
      "Silhouette Coefficient: 0.553\n",
      "Davies-Bouldin score: 0.907\n",
      "Calinski and Harabasz score: 10337.847\n",
      "____________________________________\n",
      " Modelo : KMeans\n",
      "0\n",
      "0    1348\n",
      "1    5602\n",
      "2    4976\n",
      "3    5177\n",
      "4    2509\n",
      "Name: 0, dtype: int64\n",
      "Silhouette Coefficient: 0.627\n",
      "Davies-Bouldin score: 0.844\n",
      "Calinski and Harabasz score: 13087.503\n",
      "____________________________________\n",
      " Modelo : KMeans\n",
      "0\n",
      "0    5602\n",
      "1    4947\n",
      "2    2565\n",
      "3    2445\n",
      "4    2705\n",
      "5    1348\n",
      "Name: 0, dtype: int64\n",
      "Silhouette Coefficient: 0.725\n",
      "Davies-Bouldin score: 0.763\n",
      "Calinski and Harabasz score: 16570.126\n",
      "____________________________________\n",
      " Modelo : KMeans\n",
      "0\n",
      "0    2641\n",
      "1    5602\n",
      "2    4825\n",
      "3    1348\n",
      "4    1777\n",
      "5     854\n",
      "6    2565\n",
      "Name: 0, dtype: int64\n",
      "Silhouette Coefficient: 0.756\n",
      "Davies-Bouldin score: 0.833\n",
      "Calinski and Harabasz score: 20126.954\n",
      "____________________________________\n",
      " Modelo : KMeans\n",
      "0\n",
      "0    2605\n",
      "1    5602\n",
      "2    1278\n",
      "3    4825\n",
      "4    2565\n",
      "5    1348\n",
      "6     854\n",
      "7     535\n",
      "Name: 0, dtype: int64\n",
      "Silhouette Coefficient: 0.764\n",
      "Davies-Bouldin score: 0.923\n",
      "Calinski and Harabasz score: 20437.787\n"
     ]
    }
   ],
   "source": [
    "# segmentacion por Kmeans\n",
    "\n",
    "from sklearn.cluster import *\n",
    "from sklearn import metrics\n",
    "import json\n",
    "results = []\n",
    "if True:\n",
    "    number_clusters = range(2,9)\n",
    "    key = \"KMeans\"\n",
    "    for k_clusters in number_clusters:\n",
    "        print (\"____________________________________\")\n",
    "        print (\" Modelo : %s\" % key)\n",
    "        model = MiniBatchKMeans(n_clusters=k_clusters, n_init=200, random_state=0)\n",
    "        cluster_fit = model.fit(df_original[df_colums_selected])\n",
    "        predict = cluster_fit.predict(df_original[df_colums_selected])\n",
    "        df_y = pd.DataFrame(predict)\n",
    "        df_original[\"TEMP_CLUSTER_\"+str(k_clusters)] = pd.Series(predict, index=df_original.index)\n",
    "        df_original[\"TEMP_CLUSTER_\"+str(k_clusters)] = df_original[\"TEMP_CLUSTER_\"+str(k_clusters)] + 1\n",
    "        table_df = pd.DataFrame(df_y.groupby(0).size())[0]\n",
    "        table = json.loads(table_df.to_json(orient='columns'))\n",
    "        print(table_df)\n",
    "        #table_df.plot.pie(y='\"KMEDIAS_CLUSTER_\"+str(k_clusters)', figsize=(5, 5))\n",
    "\n",
    "            # The Silhouette Coefficient is calculated using the mean intra-cluster distance (a) \n",
    "            # and the mean nearest-cluster distance (b) for each sample. \n",
    "            # The Silhouette Coefficient for a sample is (b - a) / max(a, b). \n",
    "            # To clarify, b is the distance between a sample and the nearest cluster that the sample is not a part of. \n",
    "            # Note that Silhouette Coefficient is only defined if number of labels is 2 <= n_labels <= n_samples - 1.\n",
    "            # This function returns the mean Silhouette Coefficient over all samples. \n",
    "            # The best value is 1 and the worst value is -1. Values near 0 indicate overlapping clusters.\n",
    "            # Negative values generally indicate that a sample has been assigned to the wrong cluster, \n",
    "            # as a different cluster is more similar.\n",
    "        sample_size=int(len(df_y)/2)\n",
    "\n",
    "        silhouette=metrics.silhouette_score(df_original[df_colums_selected], predict,sample_size=sample_size ,random_state=0)\n",
    "        print(\"Silhouette Coefficient: %0.3f\" % silhouette )\n",
    "\n",
    "            # The score is defined as the average similarity measure of each cluster with its most similar cluster, \n",
    "            # where similarity is the ratio of within-cluster distances to between-cluster distances. \n",
    "            # Thus, clusters which are farther apart and less dispersed will result in a better score\n",
    "            # The minimum score is zero, with lower values indicating better clustering.\n",
    "        davies_bouldin_score =  metrics.davies_bouldin_score(df_original[df_colums_selected], predict)\n",
    "        print(\"Davies-Bouldin score: %0.3f\" % davies_bouldin_score)\n",
    "\n",
    "            # The score is defined as ratio between the within-cluster dispersion and the between-cluster dispersion.\n",
    "            # There is no \"acceptable\" cut-off value. You simply compare CH values by eye. The higher the value, \n",
    "            # the \"better\" is the solution. If on the line-plot of CH values there appears that one solution give \n",
    "            # a peak or at least an abrupt elbow, choose it. If, on the contrary, the line is smooth - horizontal\n",
    "            # or ascending or descending - then there is no reason to prefer one solution to others.\n",
    "        calinski_harabasz_score = metrics.calinski_harabasz_score(df_original[df_colums_selected], predict)\n",
    "        print(\"Calinski and Harabasz score: %0.3f\" % calinski_harabasz_score)\n",
    "        \n",
    "        #print(model.cluster_centers_)\n",
    "  \n",
    "        for k,v in table.items():\n",
    "            results.append( {\n",
    "                            \"method\": key,\n",
    "                            \"n_clusters\":k_clusters,\n",
    "                            \"silhouette_score\":silhouette,\n",
    "                            \"davies_bouldin_score\":davies_bouldin_score,\n",
    "                            \"calinski_harabasz_score\":calinski_harabasz_score,\n",
    "                            \"cluster\":k,\n",
    "                            \"num_columns\":v,\n",
    "                            #\"centroids\":model.cluster_centers_,\n",
    "                           })\n",
    "\n",
    "\n"
   ]
  },
  {
   "cell_type": "code",
   "execution_count": 10,
   "metadata": {},
   "outputs": [
    {
     "data": {
      "text/plain": [
       "<pymongo.results.InsertManyResult at 0x7f59043425c8>"
      ]
     },
     "execution_count": 10,
     "metadata": {},
     "output_type": "execute_result"
    }
   ],
   "source": [
    "#Guardamos resultados en mongo\n",
    "df_results = pd.DataFrame(results)\n",
    "mongo.delete_many(\"cluster_results\",{\"id_measurement\":id_measurement,\"method\":key})\n",
    "mongo.df_to_mongo(df_results,\"cluster_results\")"
   ]
  },
  {
   "cell_type": "code",
   "execution_count": 11,
   "metadata": {},
   "outputs": [
    {
     "data": {
      "text/html": [
       "<div>\n",
       "<style scoped>\n",
       "    .dataframe tbody tr th:only-of-type {\n",
       "        vertical-align: middle;\n",
       "    }\n",
       "\n",
       "    .dataframe tbody tr th {\n",
       "        vertical-align: top;\n",
       "    }\n",
       "\n",
       "    .dataframe thead th {\n",
       "        text-align: right;\n",
       "    }\n",
       "</style>\n",
       "<table border=\"1\" class=\"dataframe\">\n",
       "  <thead>\n",
       "    <tr style=\"text-align: right;\">\n",
       "      <th></th>\n",
       "      <th>method</th>\n",
       "      <th>silhouette_score</th>\n",
       "      <th>davies_bouldin_score</th>\n",
       "      <th>calinski_harabasz_score</th>\n",
       "      <th>cluster</th>\n",
       "      <th>num_columns</th>\n",
       "    </tr>\n",
       "    <tr>\n",
       "      <th>n_clusters</th>\n",
       "      <th></th>\n",
       "      <th></th>\n",
       "      <th></th>\n",
       "      <th></th>\n",
       "      <th></th>\n",
       "      <th></th>\n",
       "    </tr>\n",
       "  </thead>\n",
       "  <tbody>\n",
       "    <tr>\n",
       "      <th>6</th>\n",
       "      <td>KMeans</td>\n",
       "      <td>0.7246</td>\n",
       "      <td>0.7629</td>\n",
       "      <td>16570.1256</td>\n",
       "      <td>0</td>\n",
       "      <td>5602</td>\n",
       "    </tr>\n",
       "    <tr>\n",
       "      <th>7</th>\n",
       "      <td>KMeans</td>\n",
       "      <td>0.7560</td>\n",
       "      <td>0.8328</td>\n",
       "      <td>20126.9536</td>\n",
       "      <td>0</td>\n",
       "      <td>2641</td>\n",
       "    </tr>\n",
       "    <tr>\n",
       "      <th>8</th>\n",
       "      <td>KMeans</td>\n",
       "      <td>0.7644</td>\n",
       "      <td>0.9231</td>\n",
       "      <td>20437.7866</td>\n",
       "      <td>0</td>\n",
       "      <td>2605</td>\n",
       "    </tr>\n",
       "  </tbody>\n",
       "</table>\n",
       "</div>"
      ],
      "text/plain": [
       "            method  silhouette_score  davies_bouldin_score  \\\n",
       "n_clusters                                                   \n",
       "6           KMeans            0.7246                0.7629   \n",
       "7           KMeans            0.7560                0.8328   \n",
       "8           KMeans            0.7644                0.9231   \n",
       "\n",
       "            calinski_harabasz_score cluster  num_columns  \n",
       "n_clusters                                                \n",
       "6                        16570.1256       0         5602  \n",
       "7                        20126.9536       0         2641  \n",
       "8                        20437.7866       0         2605  "
      ]
     },
     "execution_count": 11,
     "metadata": {},
     "output_type": "execute_result"
    }
   ],
   "source": [
    "#Listamos los mejores resultados\n",
    "df_clusters_selected = df_results.loc[df_results['silhouette_score'] >= df_results.silhouette_score.max()-0.05]\n",
    "df_clusters_selected= df_clusters_selected.groupby([\"n_clusters\"] ).first() \n",
    "df_clusters_selected.head(100)"
   ]
  },
  {
   "cell_type": "code",
   "execution_count": 12,
   "metadata": {},
   "outputs": [
    {
     "name": "stdout",
     "output_type": "stream",
     "text": [
      "Cluster seleccionado:  8.0\n"
     ]
    }
   ],
   "source": [
    "#Seleccionamos el mejor resultado\n",
    "max_calinski_harabasz_score=df_clusters_selected[\"calinski_harabasz_score\"].max()\n",
    "df_cluster_selected = df_results.loc[df_results['calinski_harabasz_score'] == max_calinski_harabasz_score]\n",
    "df_original[\"Cluster Kmeans\"]=df_original[\"TEMP_CLUSTER_\"+ str(int(df_cluster_selected[\"n_clusters\"].mean()))]\n",
    "df_original.drop( columns=df_original.filter(regex='TEMP_CLUSTER_').columns,inplace= True)\n",
    "print (\"Cluster seleccionado: \",df_cluster_selected[\"n_clusters\"].mean())"
   ]
  },
  {
   "cell_type": "code",
   "execution_count": 13,
   "metadata": {},
   "outputs": [],
   "source": [
    "#df_original.plot.pie(y=\"Cluster\", figsize=(5, 5))"
   ]
  },
  {
   "cell_type": "code",
   "execution_count": 14,
   "metadata": {},
   "outputs": [
    {
     "name": "stdout",
     "output_type": "stream",
     "text": [
      "<class 'pandas.core.frame.DataFrame'>\n",
      "RangeIndex: 19612 entries, 0 to 19611\n",
      "Data columns (total 46 columns):\n",
      "id_tweet                    19612 non-null int64\n",
      "text_tweet                  19612 non-null object\n",
      "date                        19612 non-null datetime64[ns]\n",
      "is_retweet                  19612 non-null bool\n",
      "retweet_status_id           19612 non-null float64\n",
      "retweet_text                19612 non-null object\n",
      "retweet_user_id             19612 non-null float64\n",
      "retweet_user_screen_name    19612 non-null object\n",
      "geo                         19612 non-null object\n",
      "coordinates                 19612 non-null object\n",
      "retweet_count               19612 non-null int64\n",
      "favorite_count              19612 non-null int64\n",
      "reply_count                 19612 non-null int64\n",
      "favorited                   19612 non-null bool\n",
      "retweeted                   19612 non-null bool\n",
      "filter_level                19612 non-null object\n",
      "lang                        19612 non-null object\n",
      "is_quote_status             19612 non-null bool\n",
      "quote_status_id             19612 non-null float64\n",
      "quote_text                  19612 non-null object\n",
      "quote_user_id               19612 non-null float64\n",
      "quote_user_screen_name      19612 non-null object\n",
      "user_id                     19612 non-null int64\n",
      "user_name                   19612 non-null object\n",
      "user_screen_name            19612 non-null object\n",
      "user_location               19612 non-null object\n",
      "user_description            19612 non-null object\n",
      "user_verified               19612 non-null bool\n",
      "user_followers_count        19612 non-null int64\n",
      "user_friends_count          19612 non-null int64\n",
      "user_listed_count           19612 non-null int64\n",
      "user_favourites_count       19612 non-null int64\n",
      "user_statuses_count         19612 non-null int64\n",
      "user_lang                   19612 non-null object\n",
      "user_profile_image_url      19612 non-null object\n",
      "user_created_at             19612 non-null object\n",
      "hashtags                    19612 non-null object\n",
      "user_mentions               19612 non-null object\n",
      "targets                     19612 non-null object\n",
      "id_measurement              19612 non-null int64\n",
      "data                        19612 non-null object\n",
      "date_year                   19612 non-null int64\n",
      "date_month                  19612 non-null int64\n",
      "date_dayofweek              19612 non-null int64\n",
      "date_hour                   19612 non-null int64\n",
      "Cluster Kmeans              19612 non-null int64\n",
      "dtypes: bool(5), datetime64[ns](1), float64(4), int64(16), object(20)\n",
      "memory usage: 6.2+ MB\n"
     ]
    }
   ],
   "source": [
    "#borrar variables transformadas\n",
    "\n",
    "df_columns_to_drop = df_original.filter(regex='_to_cluster')\n",
    "df_columns_to_drop = df_columns_to_drop.columns\n",
    "df_original.drop(columns=df_columns_to_drop,inplace=True)\n",
    "df_original.info()"
   ]
  },
  {
   "cell_type": "code",
   "execution_count": 15,
   "metadata": {},
   "outputs": [
    {
     "data": {
      "text/plain": [
       "<pymongo.results.InsertManyResult at 0x7f58b7d2d688>"
      ]
     },
     "execution_count": 15,
     "metadata": {},
     "output_type": "execute_result"
    }
   ],
   "source": [
    "#guardamos y creamos dataframe final\n",
    "mongo.delete_many(\"data_transform\",{\"id_measurement\":id_measurement})\n",
    "mongo.df_to_mongo(df_original,\"data_transform\")"
   ]
  },
  {
   "cell_type": "code",
   "execution_count": 16,
   "metadata": {},
   "outputs": [],
   "source": [
    "df_original.drop(columns=[\"data\",], inplace=True)\n",
    "df_original.to_csv(\"cluster.csv\", date_format='%Y%m%d')"
   ]
  },
  {
   "cell_type": "code",
   "execution_count": null,
   "metadata": {},
   "outputs": [],
   "source": []
  },
  {
   "cell_type": "code",
   "execution_count": null,
   "metadata": {},
   "outputs": [],
   "source": []
  }
 ],
 "metadata": {
  "kernelspec": {
   "display_name": "Python 3",
   "language": "python",
   "name": "python3"
  },
  "language_info": {
   "codemirror_mode": {
    "name": "ipython",
    "version": 3
   },
   "file_extension": ".py",
   "mimetype": "text/x-python",
   "name": "python",
   "nbconvert_exporter": "python",
   "pygments_lexer": "ipython3",
   "version": "3.7.3"
  }
 },
 "nbformat": 4,
 "nbformat_minor": 2
}
